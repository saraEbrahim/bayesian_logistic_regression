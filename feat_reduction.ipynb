{
 "cells": [
  {
   "cell_type": "code",
   "execution_count": 1,
   "id": "5d27d8a5",
   "metadata": {},
   "outputs": [],
   "source": [
    "import os\n",
    "import time\n",
    "import logging\n",
    "import numpy as np\n",
    "import pandas as pd\n",
    "from sklearn.decomposition import PCA"
   ]
  },
  {
   "cell_type": "markdown",
   "id": "6fa6bb37-ad1a-43da-8fee-8812bcd2e0af",
   "metadata": {
    "tags": []
   },
   "source": [
    "# PCA"
   ]
  },
  {
   "cell_type": "code",
   "execution_count": 2,
   "id": "1d8f141e-c661-4c6b-856a-75c1b3db6317",
   "metadata": {},
   "outputs": [],
   "source": [
    "from sklearn.decomposition import PCA"
   ]
  },
  {
   "cell_type": "markdown",
   "id": "b5af01e4-5aaf-4fc3-b256-67aa6353a422",
   "metadata": {
    "tags": []
   },
   "source": [
    "## miniImagenet + DC_augmented data"
   ]
  },
  {
   "cell_type": "code",
   "execution_count": 3,
   "id": "62b2022f-a42f-4734-a144-21e68aa58fe7",
   "metadata": {},
   "outputs": [],
   "source": [
    "# load one run of miniImagenet data\n",
    "miniImagenet_support_data = pd.read_csv('./data/miniImagenet/support_run_0.csv')\n",
    "miniImagenet_query_data = pd.read_csv('./data/miniImagenet/query_run_0.csv')\n",
    "miniImagenet_full = pd.read_csv('./data/miniImagenet/X_aug_run_0.csv')\n",
    "\n",
    "# prepare train and query data: here train is the support\n",
    "train_cols = miniImagenet_support_data.columns.difference(['label'])\n",
    "target_col = 'label'\n",
    "# x_train_df, y_train_df = miniImagenet_support_data[train_cols], miniImagenet_support_data[target_col]\n",
    "x_train, y_train = miniImagenet_full[train_cols].values, miniImagenet_full[target_col]\n",
    "# x_query_df,  y_query_df = miniImagenet_query_data[train_cols], miniImagenet_query_data[target_col]\n",
    "x_query,  y_query = miniImagenet_query_data[train_cols].values, miniImagenet_query_data[target_col]"
   ]
  },
  {
   "cell_type": "code",
   "execution_count": 5,
   "id": "6b2ab08e-af50-4ec8-8e63-a30a228b4c5f",
   "metadata": {},
   "outputs": [
    {
     "name": "stdout",
     "output_type": "stream",
     "text": [
      "Percentage of variance explained by each of the 5 components: [0.97426581 0.00550326 0.00370029 0.00330253 0.00189194]\n"
     ]
    }
   ],
   "source": [
    "# initialize pca\n",
    "num_samples, num_feats = x_train.shape\n",
    "NUM_COMPONENTS = 5\n",
    "pca = PCA(n_components=NUM_COMPONENTS)\n",
    "\n",
    "# fit and transform training data with pca\n",
    "x_train_transformed = pca.fit_transform(x_train)\n",
    "\n",
    "print(f\"Percentage of variance explained by each of the {pca.n_components_} components: {pca.explained_variance_ratio_}\")"
   ]
  },
  {
   "cell_type": "code",
   "execution_count": 6,
   "id": "f84635bb-a9e2-4095-bc94-a84dc1763ad0",
   "metadata": {},
   "outputs": [
    {
     "data": {
      "text/plain": [
       "(3755, 5)"
      ]
     },
     "execution_count": 6,
     "metadata": {},
     "output_type": "execute_result"
    }
   ],
   "source": [
    "x_train_transformed.shape"
   ]
  },
  {
   "cell_type": "code",
   "execution_count": 11,
   "id": "aa29ab9d-aa0c-4ec2-b21b-3f01e00c0a78",
   "metadata": {},
   "outputs": [],
   "source": [
    "# standardize the new features\n",
    "x_train_transformed = (x_train_transformed - x_train_transformed.mean())/ x_train_transformed.std()"
   ]
  },
  {
   "cell_type": "code",
   "execution_count": 13,
   "id": "0c4b10eb-d8b6-4dc8-b63e-28d8dd64416d",
   "metadata": {},
   "outputs": [],
   "source": [
    "# train a classifier: logistic regression classifier\n",
    "from sklearn.linear_model import LogisticRegression\n",
    "lr_classifier = LogisticRegression(max_iter=1000).fit(X=x_train_transformed, y=y_train)"
   ]
  },
  {
   "cell_type": "code",
   "execution_count": 14,
   "id": "47b01b6d-bbd3-479f-9f5b-b7bacb6a663b",
   "metadata": {},
   "outputs": [
    {
     "name": "stdout",
     "output_type": "stream",
     "text": [
      "accuracy of the query data: 0.64\n"
     ]
    }
   ],
   "source": [
    "## predict test data\n",
    "\n",
    "# transform new data using already fitted pca (don't re-fit the pca)\n",
    "x_query_transformed = pca.transform(x_query)\n",
    "\n",
    "# predict labels using the trained classifier\n",
    "pred_labels = lr_classifier.predict(x_query_transformed)\n",
    "\n",
    "# accuracy of the test data\n",
    "print(f\"accuracy of the query data: {np.mean(pred_labels == y_query)}\")"
   ]
  },
  {
   "cell_type": "markdown",
   "id": "de07f879-4468-4b52-a455-f82d7bd1820a",
   "metadata": {
    "jp-MarkdownHeadingCollapsed": true,
    "tags": []
   },
   "source": [
    "## Iris dataset"
   ]
  },
  {
   "cell_type": "code",
   "execution_count": null,
   "id": "899684dd",
   "metadata": {},
   "outputs": [],
   "source": [
    "from sklearn.datasets import load_iris\n",
    "\n",
    "# load data\n",
    "iris = load_iris()\n",
    "\n",
    "# training data: the first 100 points in the iris dataset\n",
    "x_train, y_train = iris.data[:100], iris.target[:100]\n",
    "x_test,  y_test = iris.data[100:], iris.target[100:]\n",
    "\n",
    "# initialize pca\n",
    "num_samples, num_feats = x_train.shape\n",
    "num_components = min(num_samples, num_feats)\n",
    "pca = PCA(n_components=num_components)\n",
    "\n",
    "# fit and transform training data with pca\n",
    "X_transformed = pca.fit_transform(x_train)\n",
    "\n",
    "classifier = DecisionTreeClassifier()\n",
    "classifier.fit(X_transformed, y_train)\n",
    "print(f\"Percentage of variance explained by each of the {num_components} components: {pca.explained_variance_ratio_}\")\n",
    "\n",
    "## predict test data\n",
    "\n",
    "# transform new data using already fitted pca (don't re-fit the pca)\n",
    "x_test_transformed = pca.transform(x_test)\n",
    "\n",
    "# predict labels using the trained classifier\n",
    "pred_labels = classifier.predict(x_test_transformed)\n",
    "\n",
    "# accuracy of the test data\n",
    "print(f\"accuracy of the test data: {sum(pred_labels == y_test)}\")"
   ]
  },
  {
   "cell_type": "markdown",
   "id": "ce5e5b62-440d-479c-8497-f2ed8ce86aaf",
   "metadata": {
    "jp-MarkdownHeadingCollapsed": true,
    "tags": []
   },
   "source": [
    "# Lasso"
   ]
  },
  {
   "cell_type": "code",
   "execution_count": null,
   "id": "1f3616fb-948e-457f-ae10-b071f9bd0c22",
   "metadata": {},
   "outputs": [],
   "source": [
    "from sklearn import feature_selection\n",
    "from sklearn import linear_model"
   ]
  },
  {
   "cell_type": "code",
   "execution_count": null,
   "id": "d6fc7b3f-b6d1-400e-9448-fd70165bea81",
   "metadata": {},
   "outputs": [],
   "source": [
    "alpha=0.1\n",
    "selector = feature_selection.SelectFromModel(estimator=linear_model.Lasso(alpha=alpha)).fit(x_train_df, y_train_df)"
   ]
  },
  {
   "cell_type": "code",
   "execution_count": null,
   "id": "e0e8745d-008b-4c00-8116-73f4dbf1e0d5",
   "metadata": {},
   "outputs": [],
   "source": [
    "selected_feats_names = list(set(selector.get_feature_names_out()))\n",
    "selected_feats_names"
   ]
  },
  {
   "cell_type": "code",
   "execution_count": null,
   "id": "bb84d009-d5a2-4753-8275-e4153bdb9384",
   "metadata": {},
   "outputs": [],
   "source": [
    "x_train_feats = x_train_df[selected_feats_names].values\n",
    "x_query_feats = x_query_df[selected_feats_names].values\n",
    "\n",
    "# train a classifier: logistic regression classifier\n",
    "lr_classifier = LogisticRegression(max_iter=1000).fit(X=x_train_feats, y=y_train_df)"
   ]
  },
  {
   "cell_type": "code",
   "execution_count": null,
   "id": "3ff8448f-2ec5-42b9-9790-fcc0b25484a6",
   "metadata": {},
   "outputs": [],
   "source": [
    "## predict test data\n",
    "\n",
    "# predict labels using the trained classifier\n",
    "pred_labels = lr_classifier.predict(x_query_feats)\n",
    "\n",
    "# accuracy of the test data\n",
    "print(f\"accuracy of the query data: {np.mean(pred_labels == y_query_df)}\")"
   ]
  }
 ],
 "metadata": {
  "kernelspec": {
   "display_name": "pgm",
   "language": "python",
   "name": "pgm"
  },
  "language_info": {
   "codemirror_mode": {
    "name": "ipython",
    "version": 3
   },
   "file_extension": ".py",
   "mimetype": "text/x-python",
   "name": "python",
   "nbconvert_exporter": "python",
   "pygments_lexer": "ipython3",
   "version": "3.7.11"
  }
 },
 "nbformat": 4,
 "nbformat_minor": 5
}
