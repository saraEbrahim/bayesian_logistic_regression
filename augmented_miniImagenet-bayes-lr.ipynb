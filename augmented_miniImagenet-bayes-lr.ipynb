{
 "cells": [
  {
   "cell_type": "markdown",
   "metadata": {
    "tags": []
   },
   "source": [
    "# Multi-class Bayesian Logistic Regression with PyMC3 ~ Softmax Regression\n",
    "* From the \"Bayesian Analysis with Python\" book repository\n",
    "* written by Osvaldo Martin \n",
    "- credit: https://github.com/aloctavodia/BAP/blob/master/code_3_11/Chp4/04_Generalizing_linear_models.ipynb"
   ]
  },
  {
   "cell_type": "code",
   "execution_count": 1,
   "metadata": {},
   "outputs": [],
   "source": [
    "import time\n",
    "import pymc3 as pm\n",
    "import numpy as np\n",
    "import pandas as pd\n",
    "import theano.tensor as tt\n",
    "import seaborn as sns\n",
    "import scipy.stats as stats\n",
    "from scipy.special import expit as logistic\n",
    "import matplotlib.pyplot as plt\n",
    "from sklearn.preprocessing import StandardScaler"
   ]
  },
  {
   "cell_type": "code",
   "execution_count": 2,
   "metadata": {},
   "outputs": [],
   "source": [
    "# import arviz as az\n",
    "# az.style.use('arviz-darkgrid')"
   ]
  },
  {
   "cell_type": "markdown",
   "metadata": {},
   "source": [
    "## Explore one classification task of MiniImagenet dataset"
   ]
  },
  {
   "cell_type": "code",
   "execution_count": 3,
   "metadata": {},
   "outputs": [
    {
     "data": {
      "text/html": [
       "<div>\n",
       "<style scoped>\n",
       "    .dataframe tbody tr th:only-of-type {\n",
       "        vertical-align: middle;\n",
       "    }\n",
       "\n",
       "    .dataframe tbody tr th {\n",
       "        vertical-align: top;\n",
       "    }\n",
       "\n",
       "    .dataframe thead th {\n",
       "        text-align: right;\n",
       "    }\n",
       "</style>\n",
       "<table border=\"1\" class=\"dataframe\">\n",
       "  <thead>\n",
       "    <tr style=\"text-align: right;\">\n",
       "      <th></th>\n",
       "      <th>f#1</th>\n",
       "      <th>f#2</th>\n",
       "      <th>f#3</th>\n",
       "      <th>f#4</th>\n",
       "      <th>f#5</th>\n",
       "      <th>label</th>\n",
       "    </tr>\n",
       "  </thead>\n",
       "  <tbody>\n",
       "    <tr>\n",
       "      <th>0</th>\n",
       "      <td>-0.345973</td>\n",
       "      <td>-0.141867</td>\n",
       "      <td>-0.046007</td>\n",
       "      <td>-0.169700</td>\n",
       "      <td>0.251301</td>\n",
       "      <td>0.0</td>\n",
       "    </tr>\n",
       "    <tr>\n",
       "      <th>1</th>\n",
       "      <td>-0.221673</td>\n",
       "      <td>-0.003457</td>\n",
       "      <td>0.071326</td>\n",
       "      <td>0.349216</td>\n",
       "      <td>0.067107</td>\n",
       "      <td>1.0</td>\n",
       "    </tr>\n",
       "    <tr>\n",
       "      <th>2</th>\n",
       "      <td>-0.000117</td>\n",
       "      <td>-0.071104</td>\n",
       "      <td>-0.286720</td>\n",
       "      <td>-0.062245</td>\n",
       "      <td>-0.183093</td>\n",
       "      <td>2.0</td>\n",
       "    </tr>\n",
       "    <tr>\n",
       "      <th>3</th>\n",
       "      <td>-0.308013</td>\n",
       "      <td>0.377608</td>\n",
       "      <td>0.151592</td>\n",
       "      <td>-0.028319</td>\n",
       "      <td>-0.055166</td>\n",
       "      <td>3.0</td>\n",
       "    </tr>\n",
       "    <tr>\n",
       "      <th>4</th>\n",
       "      <td>-0.461263</td>\n",
       "      <td>-0.318390</td>\n",
       "      <td>0.377740</td>\n",
       "      <td>-0.108410</td>\n",
       "      <td>-0.004293</td>\n",
       "      <td>4.0</td>\n",
       "    </tr>\n",
       "  </tbody>\n",
       "</table>\n",
       "</div>"
      ],
      "text/plain": [
       "        f#1       f#2       f#3       f#4       f#5  label\n",
       "0 -0.345973 -0.141867 -0.046007 -0.169700  0.251301    0.0\n",
       "1 -0.221673 -0.003457  0.071326  0.349216  0.067107    1.0\n",
       "2 -0.000117 -0.071104 -0.286720 -0.062245 -0.183093    2.0\n",
       "3 -0.308013  0.377608  0.151592 -0.028319 -0.055166    3.0\n",
       "4 -0.461263 -0.318390  0.377740 -0.108410 -0.004293    4.0"
      ]
     },
     "execution_count": 3,
     "metadata": {},
     "output_type": "execute_result"
    }
   ],
   "source": [
    "# explore the full data set (i.e. support + augmented)\n",
    "# miniImagenet_train = pd.read_csv('./data/miniImagenet/X_aug_run_0.csv')\n",
    "\n",
    "# try the pca reduced full dataset\n",
    "miniImagenet_train = pd.read_csv('./data/miniImagenet/miniImagenet_pca/X_aug_pca_run_0.csv')\n",
    "miniImagenet_train.head()"
   ]
  },
  {
   "cell_type": "code",
   "execution_count": 4,
   "metadata": {},
   "outputs": [
    {
     "data": {
      "text/plain": [
       "5"
      ]
     },
     "execution_count": 4,
     "metadata": {},
     "output_type": "execute_result"
    }
   ],
   "source": [
    "num_classes = len(miniImagenet_train.label.unique())\n",
    "num_classes"
   ]
  },
  {
   "cell_type": "markdown",
   "metadata": {},
   "source": [
    "## Preparing the data for Bayesian Softmax Regression"
   ]
  },
  {
   "cell_type": "code",
   "execution_count": 5,
   "metadata": {},
   "outputs": [],
   "source": [
    "NUM_SELECTED_POINTS = 100"
   ]
  },
  {
   "cell_type": "code",
   "execution_count": 6,
   "metadata": {},
   "outputs": [
    {
     "name": "stdout",
     "output_type": "stream",
     "text": [
      "number of data points: 100\n"
     ]
    }
   ],
   "source": [
    "y_train = pd.Categorical(miniImagenet_train['label'][:NUM_SELECTED_POINTS]).codes       # {0,1,2,3,4} \n",
    "x_train_cols = miniImagenet_train.columns.difference(['label'])\n",
    "\n",
    "x_train = miniImagenet_train[x_train_cols].values[:NUM_SELECTED_POINTS]                # shape: (number of datapoints, number of features)\n",
    "num_data_points, num_feats = x_train.shape\n",
    "print(f\"number of data points: {num_data_points}\")"
   ]
  },
  {
   "cell_type": "code",
   "execution_count": 7,
   "metadata": {},
   "outputs": [
    {
     "data": {
      "text/plain": [
       "5"
      ]
     },
     "execution_count": 7,
     "metadata": {},
     "output_type": "execute_result"
    }
   ],
   "source": [
    "num_classes"
   ]
  },
  {
   "cell_type": "markdown",
   "metadata": {},
   "source": [
    "### Standardizing the features values (if needed)"
   ]
  },
  {
   "cell_type": "code",
   "execution_count": 8,
   "metadata": {},
   "outputs": [],
   "source": [
    "# std_scaler = StandardScaler()\n",
    "# std_scaler.fit(x_train)"
   ]
  },
  {
   "cell_type": "code",
   "execution_count": 9,
   "metadata": {},
   "outputs": [],
   "source": [
    "# sum(x_train.mean(axis=0) == std_scaler.mean_)"
   ]
  },
  {
   "cell_type": "code",
   "execution_count": 10,
   "metadata": {},
   "outputs": [],
   "source": [
    "# sum(x_train.std(axis=0) == std_scaler.scale_)"
   ]
  },
  {
   "cell_type": "markdown",
   "metadata": {},
   "source": [
    "## Softmax Bayesian Regression"
   ]
  },
  {
   "cell_type": "code",
   "execution_count": 11,
   "metadata": {},
   "outputs": [
    {
     "name": "stderr",
     "output_type": "stream",
     "text": [
      "/home/sara/anaconda3/envs/bayes/lib/python3.7/site-packages/theano/tensor/subtensor.py:2197: FutureWarning: Using a non-tuple sequence for multidimensional indexing is deprecated; use `arr[tuple(seq)]` instead of `arr[seq]`. In the future this will be interpreted as an array index, `arr[np.array(seq)]`, which will result either in an error or a different result.\n",
      "  rval = inputs[0].__getitem__(inputs[1:])\n",
      "/home/sara/anaconda3/envs/bayes/lib/python3.7/site-packages/theano/tensor/subtensor.py:2197: FutureWarning: Using a non-tuple sequence for multidimensional indexing is deprecated; use `arr[tuple(seq)]` instead of `arr[seq]`. In the future this will be interpreted as an array index, `arr[np.array(seq)]`, which will result either in an error or a different result.\n",
      "  rval = inputs[0].__getitem__(inputs[1:])\n",
      "Auto-assigning NUTS sampler...\n",
      "Initializing NUTS using jitter+adapt_diag...\n",
      "/home/sara/anaconda3/envs/bayes/lib/python3.7/site-packages/theano/tensor/subtensor.py:2197: FutureWarning: Using a non-tuple sequence for multidimensional indexing is deprecated; use `arr[tuple(seq)]` instead of `arr[seq]`. In the future this will be interpreted as an array index, `arr[np.array(seq)]`, which will result either in an error or a different result.\n",
      "  rval = inputs[0].__getitem__(inputs[1:])\n",
      "Multiprocess sampling (2 chains in 4 jobs)\n",
      "NUTS: [β, α]\n",
      "Sampling 2 chains:   0%|                  | 0/2000 [00:00<?, ?draws/s]/home/sara/anaconda3/envs/bayes/lib/python3.7/site-packages/theano/tensor/subtensor.py:2197: FutureWarning: Using a non-tuple sequence for multidimensional indexing is deprecated; use `arr[tuple(seq)]` instead of `arr[seq]`. In the future this will be interpreted as an array index, `arr[np.array(seq)]`, which will result either in an error or a different result.\n",
      "  rval = inputs[0].__getitem__(inputs[1:])\n",
      "/home/sara/anaconda3/envs/bayes/lib/python3.7/site-packages/theano/tensor/subtensor.py:2197: FutureWarning: Using a non-tuple sequence for multidimensional indexing is deprecated; use `arr[tuple(seq)]` instead of `arr[seq]`. In the future this will be interpreted as an array index, `arr[np.array(seq)]`, which will result either in an error or a different result.\n",
      "  rval = inputs[0].__getitem__(inputs[1:])\n",
      "Sampling 2 chains: 100%|██████| 2000/2000 [00:09<00:00, 218.02draws/s]\n",
      "The acceptance probability does not match the target. It is 0.8907504176123318, but should be close to 0.8. Try to increase the number of tuning steps.\n"
     ]
    },
    {
     "name": "stdout",
     "output_type": "stream",
     "text": [
      "elapsed time for 100 data points and 5 features is: 15.1587 seconds\n"
     ]
    }
   ],
   "source": [
    "start = time.time()\n",
    "\n",
    "num_samples = 500\n",
    "num_chains = 2\n",
    "\n",
    "\n",
    "with pm.Model() as model_s:\n",
    "    α = pm.Normal('α', mu=0, sd=5, shape=num_classes)             # bias term\n",
    "    β = pm.Normal('β', mu=0, sd=5, shape=(num_feats,num_classes))         # feature weight\n",
    "    μ = pm.Deterministic('μ', α + pm.math.dot(x_train, β))  # linear combination of the features\n",
    "    θ = tt.nnet.softmax(μ)                              # softmax prediction (150, 3)\n",
    "    yl = pm.Categorical('yl', p=θ, observed=y_train)\n",
    "    # idata_s = pm.sample(num_samples, target_accept=0.9, return_inferencedata=True)\n",
    "    idata_s = pm.sample(num_samples, chains=num_chains,  target_accept=0.9, return_inferencedata=True)\n",
    "    \n",
    "end = time.time()\n",
    "print(f\"elapsed time for {num_data_points} data points and {num_feats} features is: {(end - start):.4f} seconds\")"
   ]
  },
  {
   "cell_type": "code",
   "execution_count": 12,
   "metadata": {},
   "outputs": [
    {
     "data": {
      "text/plain": [
       "dict_keys(['α', 'β', 'μ'])"
      ]
     },
     "execution_count": 12,
     "metadata": {},
     "output_type": "execute_result"
    }
   ],
   "source": [
    "idata_s[0]['μ'].shape\n",
    "idata_s[0].keys()"
   ]
  },
  {
   "cell_type": "code",
   "execution_count": 13,
   "metadata": {},
   "outputs": [
    {
     "data": {
      "text/plain": [
       "500"
      ]
     },
     "execution_count": 13,
     "metadata": {},
     "output_type": "execute_result"
    }
   ],
   "source": [
    "len(idata_s)"
   ]
  },
  {
   "cell_type": "code",
   "execution_count": 14,
   "metadata": {},
   "outputs": [
    {
     "data": {
      "text/plain": [
       "2"
      ]
     },
     "execution_count": 14,
     "metadata": {},
     "output_type": "execute_result"
    }
   ],
   "source": [
    "idata_s.nchains"
   ]
  },
  {
   "cell_type": "code",
   "execution_count": 15,
   "metadata": {},
   "outputs": [
    {
     "data": {
      "text/plain": [
       "['α', 'β', 'μ']"
      ]
     },
     "execution_count": 15,
     "metadata": {},
     "output_type": "execute_result"
    }
   ],
   "source": [
    "idata_s.varnames"
   ]
  },
  {
   "cell_type": "code",
   "execution_count": 16,
   "metadata": {},
   "outputs": [
    {
     "data": {
      "text/plain": [
       "[0, 1]"
      ]
     },
     "execution_count": 16,
     "metadata": {},
     "output_type": "execute_result"
    }
   ],
   "source": [
    "idata_s.chains"
   ]
  },
  {
   "cell_type": "code",
   "execution_count": 17,
   "metadata": {},
   "outputs": [],
   "source": [
    "# DONT REMOVE\n",
    "# i = 0\n",
    "# for pmc_iter in idata_s.points(): # 8000 iterations (i.e. number of points = 4 chains x 2000 iterations)\n",
    "#     logits_vals = np.vstack(\n",
    "    # print(pmc_iter.keys())        # dict_keys(['α', 'β', 'μ'])\n",
    "    # print(pmc_iter['μ'].shape)    # (150,3) for each iteration we have (150,3) μ : logit values of 150 datapoints: (150, 3) (to be passed to softmax predcition next)\n",
    "    # print(pmc_iter['β'].shape)    # (4,3)   for each iteration we have   (4,3) β\n",
    "    # print(pmc_iter['α'].shape)    # (3,)    for each iteration we have    (3,) α\n",
    "\n",
    "#     i+=1\n",
    "# print(i)"
   ]
  },
  {
   "cell_type": "markdown",
   "metadata": {},
   "source": [
    "## Accuracy for training data"
   ]
  },
  {
   "cell_type": "code",
   "execution_count": 18,
   "metadata": {},
   "outputs": [
    {
     "name": "stdout",
     "output_type": "stream",
     "text": [
      "(1000, 30, 5)\n",
      "(1000, 5)\n",
      "(1000, 5, 5)\n"
     ]
    }
   ],
   "source": [
    "# DONT REMOVE\n",
    "print(idata_s.get_values('μ').shape)   # shape (8000, 150, 3) ---> (num_iters, num_data_points, num_classes)\n",
    "print(idata_s.get_values('α').shape)   # shape (8000, 3)      ---> (num_iters, num_classes)\n",
    "print(idata_s.get_values('β').shape)   # shape (8000, 4, 3)   ---> (num_iters, num_feats, num_classes)"
   ]
  },
  {
   "cell_type": "code",
   "execution_count": 19,
   "metadata": {},
   "outputs": [
    {
     "name": "stdout",
     "output_type": "stream",
     "text": [
      "0.93\n"
     ]
    }
   ],
   "source": [
    "# get logits by averaging over the num_iters (here 8000)\n",
    "# shape of μ is (num_iters, num_data_points, num_classes)\n",
    "data_pred = idata_s.get_values('μ').mean(axis=0)   # logits for training data: shape (150, 3)\n",
    "\n",
    "# softmax prediction for the 150 datapoint in the training dataset\n",
    "y_pred = [np.exp(point)/np.sum(np.exp(point), axis=0) for point in data_pred]   # len(y_pred) = num_data_points\n",
    "\n",
    "# accuracy of the training data = 98%\n",
    "print(f'{np.sum(y_train == np.argmax(y_pred, axis=1)) / len(y_train):.2f}')  "
   ]
  },
  {
   "cell_type": "markdown",
   "metadata": {},
   "source": [
    "## Predicting test data"
   ]
  },
  {
   "cell_type": "code",
   "execution_count": 20,
   "metadata": {},
   "outputs": [],
   "source": [
    "def get_softmax_prediction(x_test, y_test, α, β, estimate_type='mean'):   \n",
    "    '''\n",
    "    x_test: held-out test data.     shape = (num_data_points, num_feats)\n",
    "    y_test: held-out true labels.   shape = (num_data_points,)\n",
    "    α: bias term.                   shape = (num_iters, num_classes)\n",
    "    β: features weights.            shape = (num_iters, num_feats, num_classes)\n",
    "    estimate_type: available options = ['mean', 'median', 'mode'], default value is: 'mean'\n",
    "    '''\n",
    "    if estimate_type == \"mean\":\n",
    "        y_pred = α.mean(axis=0) + np.dot(x_test, β.mean(axis=0))    # first term shape: ?? , second term shape: (num_points, num_classes)\n",
    "    \n",
    "    elif estimate_type == \"median\":\n",
    "        y_pred = np.median(α, axis=0) + np.dot(x_test, np.median(β, axis=0))\n",
    "        \n",
    "    elif estimate_type == \"mode\":\n",
    "        α_mode = stats.mode(α, axis=0)[0].squeeze()\n",
    "        β_mode = stats.mode(β, axis=0)[0].squeeze()\n",
    "        y_pred = α_mode + np.dot(x_test, β_mode)\n",
    "    proba = np.exp(y_pred).T/np.sum(np.exp(y_pred), axis=1)\n",
    "    p_class = np.argmax(proba, axis=0)\n",
    "    \n",
    "    accuracy = np.sum(y_test == np.argmax(y_pred, axis=1)) / len(y_test)\n",
    "    return proba, p_class, accuracy * 100"
   ]
  },
  {
   "cell_type": "markdown",
   "metadata": {},
   "source": [
    "### Predict support set (i.e. training data)"
   ]
  },
  {
   "cell_type": "code",
   "execution_count": 21,
   "metadata": {},
   "outputs": [],
   "source": [
    "# Bayesian parameters from the drawn samples\n",
    "α = idata_s.get_values('α')\n",
    "β = idata_s.get_values('β')"
   ]
  },
  {
   "cell_type": "code",
   "execution_count": 22,
   "metadata": {},
   "outputs": [
    {
     "data": {
      "text/plain": [
       "93.33333333333333"
      ]
     },
     "execution_count": 22,
     "metadata": {},
     "output_type": "execute_result"
    }
   ],
   "source": [
    "# hint: 'mode' estimate type takes more time than 'mean' and 'median'\n",
    "y_proba, y_pred, accuracy = get_softmax_prediction(x_train, y_train, α, β, estimate_type='median')\n",
    "accuracy"
   ]
  },
  {
   "cell_type": "markdown",
   "metadata": {},
   "source": [
    "### Predict query set (held-out data set)"
   ]
  },
  {
   "cell_type": "code",
   "execution_count": 23,
   "metadata": {},
   "outputs": [
    {
     "data": {
      "text/plain": [
       "(75, 6)"
      ]
     },
     "execution_count": 23,
     "metadata": {},
     "output_type": "execute_result"
    }
   ],
   "source": [
    "# miniImagenet_test = pd.read_csv('./data/miniImagenet/query_run_0.csv')\n",
    "miniImagenet_test = pd.read_csv('./data/miniImagenet/miniImagenet_pca/query+full_pca_run_0.csv')\n",
    "miniImagenet_test.shape"
   ]
  },
  {
   "cell_type": "code",
   "execution_count": 24,
   "metadata": {},
   "outputs": [],
   "source": [
    "y_test = pd.Categorical(miniImagenet_test['label']).codes       # {0,1,2,3,4} \n",
    "x_test_cols = miniImagenet_test.columns.difference(['label'])\n",
    "x_test = miniImagenet_test[x_test_cols].values                 # shape: (number of datapoints, number of features)"
   ]
  },
  {
   "cell_type": "code",
   "execution_count": 25,
   "metadata": {},
   "outputs": [
    {
     "data": {
      "text/plain": [
       "57.333333333333336"
      ]
     },
     "execution_count": 25,
     "metadata": {},
     "output_type": "execute_result"
    }
   ],
   "source": [
    "y_test_proba, y_test_pred, test_accuracy = get_softmax_prediction(x_test, y_test, α, β, estimate_type='median')\n",
    "test_accuracy"
   ]
  },
  {
   "cell_type": "code",
   "execution_count": null,
   "metadata": {},
   "outputs": [],
   "source": []
  }
 ],
 "metadata": {
  "anaconda-cloud": {},
  "kernelspec": {
   "display_name": "bayes",
   "language": "python",
   "name": "bayes"
  },
  "language_info": {
   "codemirror_mode": {
    "name": "ipython",
    "version": 3
   },
   "file_extension": ".py",
   "mimetype": "text/x-python",
   "name": "python",
   "nbconvert_exporter": "python",
   "pygments_lexer": "ipython3",
   "version": "3.7.12"
  }
 },
 "nbformat": 4,
 "nbformat_minor": 4
}
